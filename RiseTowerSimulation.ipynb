{
 "cells": [
  {
   "cell_type": "code",
   "execution_count": null,
   "id": "dd2c578e",
   "metadata": {},
   "outputs": [],
   "source": [
    "#Read asset inputs\n",
    "\n",
    "#define population\n",
    "\n",
    "#definte simulation time\n",
    "\n",
    "#Create lift logic\n",
    "\n",
    "#Create simulation loop per second\n",
    "#Calculate arrival rate\n",
    "#For each arrival, assign an asset based on capacity distribution?\n"
   ]
  }
 ],
 "metadata": {
  "language_info": {
   "name": "python"
  }
 },
 "nbformat": 4,
 "nbformat_minor": 5
}
