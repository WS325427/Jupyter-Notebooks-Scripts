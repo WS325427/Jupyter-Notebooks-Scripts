{
 "cells": [
  {
   "cell_type": "code",
   "execution_count": 27,
   "id": "76992ff4-decc-4eea-9200-81a0f11ad1c2",
   "metadata": {},
   "outputs": [],
   "source": [
    "import copy\n",
    "import random as rd\n",
    "import csv"
   ]
  },
  {
   "cell_type": "code",
   "execution_count": 28,
   "id": "28822aed-75a1-4e66-8756-0f5572243b14",
   "metadata": {},
   "outputs": [],
   "source": [
    "#Group1\n",
    "path1 = {'node1':90,'node2':30,'node3':60,'node4':60,'node5':40,'node6':20,'node7':60,'node8':20,'end':999}\n",
    "path2 = {'node9':90,'node10':30,'node11':60,'node12':60,'node13':40,'node14':20,'node15':60,'node16':20,'end':999}\n",
    "path3 = {'node17':90,'node18':30,'node19':60,'node20':60,'node21':40,'node22':20,'node23':60,'node24':20,'end':999}\n",
    "\n",
    "#Group2\n",
    "path4 = {'node25':90,'node26':30,'node27':60,'node28':60,'node29':40,'node30':20,'node31':60,'node32':20,'end':999}\n",
    "path5 = {'node33':90,'node34':30,'node35':60,'node36':60,'node37':40,'node38':20,'node39':60,'node40':20,'end':999}\n",
    "path6 = {'node41':90,'node42':30,'node43':60,'node44':60,'node45':40,'node46':20,'node47':60,'node48':20,'end':999}\n",
    "\n",
    "#Group3\n",
    "path7 = {'node49':90,'node50':30,'node51':60,'node52':60,'node53':40,'node54':20,'node55':60,'end':999}\n",
    "path8 = {'node56':90,'node57':30,'node58':60,'node59':60,'node60':40,'node61':20,'node62':60,'end':999}\n",
    "path9 = {'node63':90,'node64':30,'node65':60,'node66':60,'node67':40,'node68':20,'node69':60,'end':999}\n",
    "\n",
    "#Fast Track\n",
    "path10 = {'node49':90,'node27':60,'node3':60,'node57':30,'node64':30,'node36':60,'node12':60,'node51':60,'node37':40,'node13':40,\n",
    "          'node66':60,'node46':20,'node22':20,'node53':40,'node61':20,'node69':60,'end':999}"
   ]
  },
  {
   "cell_type": "code",
   "execution_count": 29,
   "id": "21109858-7e01-41c8-9cd5-59478d211e37",
   "metadata": {},
   "outputs": [],
   "source": [
    "nodePaths = {'path1':path1,\n",
    "               'path2':path2,\n",
    "               'path3':path3,\n",
    "               'path4':path4,\n",
    "               'path5':path5,\n",
    "               'path6':path6,\n",
    "               'path7':path7,\n",
    "               'path8':path8,\n",
    "               'path9':path9,\n",
    "               'path10':path10\n",
    "              } #nodename : service tieme in seconds\n",
    "nodeDwellRange = 10 #seconds eg. 40 second dwell time with 10 second range, people can stay between 30-50 seconds\n",
    "\n",
    "liftRoundTime = 45 #seconds\n",
    "liftCapacity = 12 #people\n",
    "\n",
    "simulationTime = 1800 #seconds\n",
    "\n"
   ]
  },
  {
   "cell_type": "code",
   "execution_count": 50,
   "id": "9ce7018a-74a3-46cd-a25f-612162751d2e",
   "metadata": {},
   "outputs": [],
   "source": [
    "class person:\n",
    "    def __init__(self,personIndex,timeAtNode,pathList,nodeDetail):\n",
    "        self.idx = personIndex\n",
    "        self.curNode = pathList[0]\n",
    "        self.curNodeIdx = 0\n",
    "        self.timeAtCurNode = timeAtNode\n",
    "        self.nodeList = pathList\n",
    "        self.node_detail = nodeDetail \n",
    "        self.timeAtNextNode = timeAtNode + self.calculateTimeToNextNode()\n",
    "\n",
    "    def __str__(self):\n",
    "        return f\"{self.idx} {self.curNode} {self.timeAtCurNode} {self.timeAtNextNode}\"\n",
    "\n",
    "    def calculateTimeToNextNode(self):\n",
    "        lowRange = self.node_detail[self.curNode]-nodeDwellRange\n",
    "        highRange = self.node_detail[self.curNode] + nodeDwellRange\n",
    "        timeToSpendAtCurNode = rd.randrange(lowRange,highRange+1,1)\n",
    "        return timeToSpendAtCurNode\n",
    "\n",
    "    def updateAgentLocation(self,curTime):\n",
    "        if curTime == self.timeAtNextNode:\n",
    "            #Reached Last Step, remove details\n",
    "            if self.curNode == self.nodeList[-1]:\n",
    "                self.curNode = 'end'\n",
    "                self.timeAtNextNode = -1\n",
    "                return\n",
    "            self.curNodeIdx+=1\n",
    "            self.curNode = self.nodeList[self.curNodeIdx]\n",
    "            self.timeAtCurNode = curTime\n",
    "            self.timeAtNextNode = curTime + self.calculateTimeToNextNode()\n",
    "            return"
   ]
  },
  {
   "cell_type": "code",
   "execution_count": 54,
   "id": "80a9c698-a605-4c2d-b2a1-7ac283cbed22",
   "metadata": {},
   "outputs": [],
   "source": [
    "#simulate arrival time of people coming in a lift and moving through from one to the next and calculate occupancy of each node over time\n",
    "\n",
    "#keep track of time when people arrive at a node, where they are and when they should leave.\n",
    "numberOfPeople = 0\n",
    "peopleList = []\n",
    "nodeOccupancies = {}\n",
    "for curTime in range(simulationTime):\n",
    "\n",
    "    if curTime not in nodeOccupancies:\n",
    "        nodeOccupancies[curTime] = {}\n",
    "        for key in nodePaths:\n",
    "            nodeOccupancies[curTime]['end'] = 0\n",
    "            for paths in list(nodePaths[key])[:-1]:\n",
    "                nodeOccupancies[curTime][paths] = 0\n",
    "    \n",
    "\n",
    "    for idx,paths in enumerate(nodePaths):\n",
    "        offset = idx * 10\n",
    "        nodeDetails = nodePaths[paths]\n",
    "        nodeList = list(nodeDetails)[:-1]\n",
    "\n",
    "        if (curTime+offset)%liftRoundTime == 0:# People Arrive at node 1\n",
    "            for personIndex in range(liftCapacity):\n",
    "                peopleList.append(person(len(peopleList),curTime,nodeList,nodeDetails))\n",
    "\n",
    "    for agent in peopleList:\n",
    "        agent.updateAgentLocation(curTime)\n",
    "        agentLocation = agent.curNode\n",
    "        nodeOccupancies[curTime][agentLocation] += 1\n",
    "\n"
   ]
  },
  {
   "cell_type": "code",
   "execution_count": 56,
   "id": "a8a0640c-a589-4afc-954f-ad7909e3257a",
   "metadata": {},
   "outputs": [],
   "source": [
    "# Get headers from one of the inner dictionaries\n",
    "fieldnames = ['time'] + list(next(iter(nodeOccupancies.values())).keys())\n",
    "\n",
    "with open('nodeStaticCalcsOutput_Multi.csv', 'w', newline='') as csvfile:\n",
    "    writer = csv.DictWriter(csvfile, fieldnames=fieldnames)\n",
    "    writer.writeheader()\n",
    "    for time, node_values in nodeOccupancies.items():\n",
    "        row = {'time': time}\n",
    "        row.update(node_values)\n",
    "        writer.writerow(row)"
   ]
  },
  {
   "cell_type": "code",
   "execution_count": null,
   "id": "6f7d9a5b-ee20-4725-afe7-7a0b74d89b6e",
   "metadata": {},
   "outputs": [],
   "source": []
  }
 ],
 "metadata": {
  "kernelspec": {
   "display_name": "Python 3 (ipykernel)",
   "language": "python",
   "name": "python3"
  },
  "language_info": {
   "codemirror_mode": {
    "name": "ipython",
    "version": 3
   },
   "file_extension": ".py",
   "mimetype": "text/x-python",
   "name": "python",
   "nbconvert_exporter": "python",
   "pygments_lexer": "ipython3",
   "version": "3.13.5"
  }
 },
 "nbformat": 4,
 "nbformat_minor": 5
}
