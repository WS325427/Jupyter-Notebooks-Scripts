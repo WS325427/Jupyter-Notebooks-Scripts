{
 "cells": [
  {
   "cell_type": "code",
   "execution_count": 1,
   "id": "76992ff4-decc-4eea-9200-81a0f11ad1c2",
   "metadata": {},
   "outputs": [],
   "source": [
    "import copy\n",
    "import random as rd\n",
    "import csv"
   ]
  },
  {
   "cell_type": "code",
   "execution_count": 2,
   "id": "21109858-7e01-41c8-9cd5-59478d211e37",
   "metadata": {},
   "outputs": [],
   "source": [
    "nodeDetails = {'node1':90,\n",
    "               'node2':30,\n",
    "               'node3':60,\n",
    "               'node4':60,\n",
    "               'node5':40,\n",
    "               'node6':20,\n",
    "               'node7':60,\n",
    "               'node8':20,\n",
    "               'end':999\n",
    "              } #nodename : service tieme in seconds\n",
    "nodeOccupancies = {}\n",
    "nodeDwellRange = 10 #seconds eg. 40 second dwell time with 10 second range, people can stay between 30-50 seconds\n",
    "\n",
    "liftRoundTime = 45 #seconds\n",
    "liftCapacity = 12 #people\n",
    "\n",
    "simulationTime = 1800 #seconds\n",
    "\n",
    "nodeList = list(nodeDetails)[:-1]"
   ]
  },
  {
   "cell_type": "code",
   "execution_count": 3,
   "id": "9ce7018a-74a3-46cd-a25f-612162751d2e",
   "metadata": {},
   "outputs": [],
   "source": [
    "class person:\n",
    "    def __init__(self,personIndex,startNode,timeAtNode):\n",
    "        self.idx = personIndex\n",
    "        self.curNode = startNode\n",
    "        self.curNodeIdx = 0\n",
    "        self.timeAtCurNode = timeAtNode\n",
    "        self.timeAtNextNode = timeAtNode + self.calculateTimeToNextNode()\n",
    "\n",
    "    def __str__(self):\n",
    "        return f\"{self.idx} {self.curNode} {self.timeAtCurNode} {self.timeAtNextNode}\"\n",
    "\n",
    "    def calculateTimeToNextNode(self):\n",
    "        lowRange = nodeDetails[self.curNode]-nodeDwellRange\n",
    "        highRange = nodeDetails[self.curNode] + nodeDwellRange\n",
    "        timeToSpendAtCurNode = rd.randrange(lowRange,highRange+1,1)\n",
    "        return timeToSpendAtCurNode\n",
    "\n",
    "    def updateAgentLocation(self,curTime):\n",
    "        if curTime == self.timeAtNextNode:\n",
    "            #Reached Last Step, remove details\n",
    "            if self.curNode == nodeList[-1]:\n",
    "                self.curNode = 'end'\n",
    "                self.timeAtNextNode = -1\n",
    "                return\n",
    "            self.curNodeIdx+=1\n",
    "            self.curNode = nodeList[self.curNodeIdx]\n",
    "            self.timeAtCurNode = curTime\n",
    "            self.timeAtNextNode = curTime + self.calculateTimeToNextNode()\n",
    "            return"
   ]
  },
  {
   "cell_type": "code",
   "execution_count": 4,
   "id": "80a9c698-a605-4c2d-b2a1-7ac283cbed22",
   "metadata": {},
   "outputs": [],
   "source": [
    "#simulate arrival time of people coming in a lift and moving through from one to the next and calculate occupancy of each node over time\n",
    "\n",
    "#keep track of time when people arrive at a node, where they are and when they should leave.\n",
    "numberOfPeople = 0\n",
    "peopleList = []\n",
    "for curTime in range(simulationTime):\n",
    "    \n",
    "    if curTime not in nodeOccupancies:\n",
    "        nodeOccupancies[curTime] = {}\n",
    "        for key in nodeDetails:\n",
    "            nodeOccupancies[curTime][key] = 0\n",
    "\n",
    "    if curTime%liftRoundTime == 0:# People Arrive at node 1\n",
    "        for personIndex in range(liftCapacity):\n",
    "            peopleList.append(person(len(peopleList),nodeList[0],curTime))\n",
    "\n",
    "    for agent in peopleList:\n",
    "        agent.updateAgentLocation(curTime)\n",
    "        agentLocation = agent.curNode\n",
    "        nodeOccupancies[curTime][agentLocation] += 1"
   ]
  },
  {
   "cell_type": "code",
   "execution_count": 5,
   "id": "a8a0640c-a589-4afc-954f-ad7909e3257a",
   "metadata": {},
   "outputs": [],
   "source": [
    "# Get headers from one of the inner dictionaries\n",
    "fieldnames = ['time'] + list(next(iter(nodeOccupancies.values())).keys())\n",
    "\n",
    "with open('nodeStaticCalcsOutput.csv', 'w', newline='') as csvfile:\n",
    "    writer = csv.DictWriter(csvfile, fieldnames=fieldnames)\n",
    "    writer.writeheader()\n",
    "    for time, node_values in nodeOccupancies.items():\n",
    "        row = {'time': time}\n",
    "        row.update(node_values)\n",
    "        writer.writerow(row)"
   ]
  },
  {
   "cell_type": "code",
   "execution_count": null,
   "id": "6f7d9a5b-ee20-4725-afe7-7a0b74d89b6e",
   "metadata": {},
   "outputs": [],
   "source": []
  }
 ],
 "metadata": {
  "kernelspec": {
   "display_name": "Python 3 (ipykernel)",
   "language": "python",
   "name": "python3"
  },
  "language_info": {
   "codemirror_mode": {
    "name": "ipython",
    "version": 3
   },
   "file_extension": ".py",
   "mimetype": "text/x-python",
   "name": "python",
   "nbconvert_exporter": "python",
   "pygments_lexer": "ipython3",
   "version": "3.13.5"
  }
 },
 "nbformat": 4,
 "nbformat_minor": 5
}
